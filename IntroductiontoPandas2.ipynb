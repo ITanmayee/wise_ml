{
  "nbformat": 4,
  "nbformat_minor": 0,
  "metadata": {
    "colab": {
      "name": "IntroductiontoPandas2.ipynb",
      "private_outputs": true,
      "provenance": [],
      "collapsed_sections": [],
      "include_colab_link": true
    },
    "kernelspec": {
      "name": "python3",
      "display_name": "Python 3"
    }
  },
  "cells": [
    {
      "cell_type": "markdown",
      "metadata": {
        "id": "view-in-github",
        "colab_type": "text"
      },
      "source": [
        "<a href=\"https://colab.research.google.com/github/ITanmayee/wise_ml/blob/main/IntroductiontoPandas2.ipynb\" target=\"_parent\"><img src=\"https://colab.research.google.com/assets/colab-badge.svg\" alt=\"Open In Colab\"/></a>"
      ]
    },
    {
      "cell_type": "markdown",
      "metadata": {
        "id": "S1WzLof2BcLn"
      },
      "source": [
        "# Objectives\n",
        "\n",
        "At the end of the experiment you will able to\n",
        "\n",
        "* perform data cleaning, manipulation and pre-processing using Pandas"
      ]
    },
    {
      "cell_type": "markdown",
      "metadata": {
        "id": "GHx209vkCRGY"
      },
      "source": [
        "## Dataset\n",
        "\n",
        "In this Experiment you will be using movies dataset. The dataset contains 77 rows and 8 columns. The columns are as follows:\n",
        "\n",
        "* Film\n",
        "* Genre\n",
        "     - Romance, Comedy, Drama, Animation, Fantasy, Action\n",
        "* Lead Studio\n",
        "* Audience score in percentage\n",
        "* Profitability\n",
        "* Rotten Tomatoes in percentage\n",
        "* Worldwide Gross\n",
        "* Year"
      ]
    },
    {
      "cell_type": "markdown",
      "metadata": {
        "id": "7A64kE6zEPb6"
      },
      "source": [
        "## Features of Pandas\n",
        "\n",
        "* Fast and efficient DataFrame object with default and customized indexing.\n",
        "* Tools for loading data into in-memory data objects from different file formats.\n",
        "* Data alignment and integrated handling of missing data.\n",
        "* Reshaping and pivoting of date sets.\n",
        "* Label-based slicing, indexing and subsetting of large data sets.\n",
        "* Columns from a data structure can be deleted or inserted.\n",
        "* Group by data for aggregation and transformations.\n",
        "* High performance merging and joining of data.\n",
        "* Time Series functionality.\n",
        "\n",
        "Now it is time to work on practicals. Following Are the given Exercise:"
      ]
    },
    {
      "cell_type": "markdown",
      "metadata": {
        "id": "T0yaZ0r72DDi"
      },
      "source": [
        "## Run the below code cell to download the movies data"
      ]
    },
    {
      "cell_type": "code",
      "metadata": {
        "id": "E1cwBNxo1RPU"
      },
      "source": [
        "!wget https://cdn.talentsprint.com/aiml/movies.csv"
      ],
      "execution_count": null,
      "outputs": []
    },
    {
      "cell_type": "code",
      "metadata": {
        "id": "2jTSLqT4EHSk"
      },
      "source": [
        "import pandas as pd"
      ],
      "execution_count": null,
      "outputs": []
    },
    {
      "cell_type": "code",
      "metadata": {
        "id": "OjI4lOVmERN5"
      },
      "source": [
        "moviesdata = pd.read_csv(\"movies.csv\")"
      ],
      "execution_count": null,
      "outputs": []
    },
    {
      "cell_type": "code",
      "metadata": {
        "id": "Cz3cDaw2F_Fb"
      },
      "source": [
        "moviesdata.head(5)"
      ],
      "execution_count": null,
      "outputs": []
    },
    {
      "cell_type": "markdown",
      "metadata": {
        "id": "7lFxb7yqFOCn"
      },
      "source": [
        "### Exercises 1: How many movies are listed in the moviesdata dataframe?"
      ]
    },
    {
      "cell_type": "code",
      "metadata": {
        "id": "Id6nA4idFZUH"
      },
      "source": [
        "# Your Code Here\n",
        "moviesdata['Film'].count()"
      ],
      "execution_count": null,
      "outputs": []
    },
    {
      "cell_type": "markdown",
      "metadata": {
        "id": "951to2E3Fzqt"
      },
      "source": [
        "### Exercises 2: How many movies were made in the year 2009?"
      ]
    },
    {
      "cell_type": "code",
      "metadata": {
        "id": "mujshh9uEgFz"
      },
      "source": [
        "# Your Code Here\n",
        "yr = moviesdata['Year'] == 2009\n",
        "len(moviesdata[yr])"
      ],
      "execution_count": null,
      "outputs": []
    },
    {
      "cell_type": "markdown",
      "metadata": {
        "id": "lNhxrJbhFBDC"
      },
      "source": [
        "### Exercises 3: Which year saw the most films released?"
      ]
    },
    {
      "cell_type": "code",
      "metadata": {
        "id": "hP6hZLJUSW03"
      },
      "source": [
        "# Your Code Here\n",
        "yr_count = {}\n",
        "\n",
        "\n",
        "for i in moviesdata['Year']:\n",
        "  if i not in yr_count:\n",
        "    yr_count[i] = 1\n",
        "  else :\n",
        "    yr_count[i] += 1\n",
        "\n",
        "max_films = max(yr_count.values())\n",
        "\n",
        "for i in yr_count:\n",
        "  if yr_count[i] == max_films:\n",
        "    print(i)\n",
        "\n",
        "#moviesdata['Year'].max()"
      ],
      "execution_count": null,
      "outputs": []
    },
    {
      "cell_type": "markdown",
      "metadata": {
        "id": "lfA0jgISGGfx"
      },
      "source": [
        "### Exercises 4: How many movies were made from 2010 through 2011?"
      ]
    },
    {
      "cell_type": "code",
      "metadata": {
        "id": "GT87nhGUGKqs"
      },
      "source": [
        "# Your Code Here\n",
        "\n",
        "ten_to_eleven = list(filter(lambda yr: yr > 2009 and yr < 2012, moviesdata['Year']))\n",
        "len(ten_to_eleven)"
      ],
      "execution_count": null,
      "outputs": []
    },
    {
      "cell_type": "markdown",
      "metadata": {
        "id": "rERFAv1xGy4x"
      },
      "source": [
        "### Exercises 5: In Genre column, sometimes Comedy is spelled as Comdy, comedy and Romance is spelled as romance, Romence. Replace all the misspelt words with correct words"
      ]
    },
    {
      "cell_type": "code",
      "metadata": {
        "id": "8SVeciUSGyPv"
      },
      "source": [
        "# Your Code Here\n",
        "moviesdata['Genre'].replace(to_replace = ['Comdy', 'comedy'], value = 'Comedy', inplace = True)\n",
        "moviesdata['Genre'].replace(to_replace = ['romance', 'Romence'], value = 'Romance', inplace = True)"
      ],
      "execution_count": null,
      "outputs": []
    },
    {
      "cell_type": "markdown",
      "metadata": {
        "id": "XotWOMJ_IJPF"
      },
      "source": [
        "### Exercises 6: How many Comedy Genre movies has release in 2009?"
      ]
    },
    {
      "cell_type": "code",
      "metadata": {
        "id": "5uUubE70GOWL"
      },
      "source": [
        "# Your Code Here\n",
        "comedy = list(filter(lambda i: i[0] == 'Comedy' and i[1] == 2009, zip(moviesdata['Genre'], moviesdata['Year'])))\n",
        "len(comedy)"
      ],
      "execution_count": null,
      "outputs": []
    },
    {
      "cell_type": "markdown",
      "metadata": {
        "id": "j-zcJYfdPiG3"
      },
      "source": [
        "### Exercises 7: Which year as the most number of Romance Genre Movies releases?"
      ]
    },
    {
      "cell_type": "code",
      "metadata": {
        "id": "28nVARnJIdnJ"
      },
      "source": [
        "# Your Code Here\n",
        "romance_yr =  list(filter(lambda i: i[0] == 'Romance', zip(moviesdata['Genre'], moviesdata['Year'])))\n",
        "#print(romance_yr)\n",
        "\n",
        "yr_cnt = {}\n",
        "\n",
        "\n",
        "for i in romance_yr:\n",
        "  if i[1] not in yr_cnt:\n",
        "    yr_cnt[i[1]] = 1\n",
        "  else :\n",
        "    yr_cnt[i[1]] += 1\n",
        "\n",
        "max_rom_yr = max(yr_cnt.values())\n",
        "\n",
        "for i in yr_cnt:\n",
        "  if yr_cnt[i] == max_rom_yr:\n",
        "    print(i)\n",
        "\n",
        "\n"
      ],
      "execution_count": null,
      "outputs": []
    },
    {
      "cell_type": "markdown",
      "metadata": {
        "id": "QxEtNLKoQGKq"
      },
      "source": [
        "### Exercises 8: How many films are made by Sony Lead Studio?"
      ]
    },
    {
      "cell_type": "code",
      "metadata": {
        "id": "def6pUxHPxd-"
      },
      "source": [
        "# Your Code Here\n",
        "sony = moviesdata['Lead Studio'] == 'Sony'\n",
        "len(moviesdata[sony])"
      ],
      "execution_count": null,
      "outputs": []
    },
    {
      "cell_type": "markdown",
      "metadata": {
        "id": "3uU00yjHQ7xC"
      },
      "source": [
        "### Exercises 9: How many films are having Audience score less than 50 %?"
      ]
    },
    {
      "cell_type": "code",
      "metadata": {
        "id": "f6KNkSfGP_8o"
      },
      "source": [
        "# Your Code Here\n",
        "low = moviesdata['Audience score %'] < 50\n",
        "len(moviesdata[low])"
      ],
      "execution_count": null,
      "outputs": []
    },
    {
      "cell_type": "markdown",
      "metadata": {
        "id": "gsOE9jyoRUuD"
      },
      "source": [
        "### Exercises 10: Display all the movies done by Universal Lead Studio?"
      ]
    },
    {
      "cell_type": "code",
      "metadata": {
        "id": "Dqd4XTCLRLh9"
      },
      "source": [
        "# Your Code Here"
      ],
      "execution_count": null,
      "outputs": []
    },
    {
      "cell_type": "code",
      "metadata": {
        "id": "pHRJOfpeR6YT"
      },
      "source": [
        "uni = list(map(lambda x: x[0], filter(lambda film_std: film_std[1] == 'Universal', zip(moviesdata['Film'], moviesdata['Lead Studio']))))\n",
        "uni"
      ],
      "execution_count": null,
      "outputs": []
    }
  ]
}
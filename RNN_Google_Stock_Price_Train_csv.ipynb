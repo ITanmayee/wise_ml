{
  "nbformat": 4,
  "nbformat_minor": 0,
  "metadata": {
    "colab": {
      "name": "RNN_Google_Stock_Price_Train.csv.ipynb",
      "provenance": [],
      "mount_file_id": "1WOl7IEIEXpKXM5hioMcUZ9fxgSzQGyAh",
      "authorship_tag": "ABX9TyPe6D/hxr995gXd+VDJtPyQ",
      "include_colab_link": true
    },
    "kernelspec": {
      "name": "python3",
      "display_name": "Python 3"
    },
    "language_info": {
      "name": "python"
    }
  },
  "cells": [
    {
      "cell_type": "markdown",
      "metadata": {
        "id": "view-in-github",
        "colab_type": "text"
      },
      "source": [
        "<a href=\"https://colab.research.google.com/github/ITanmayee/wise_ml/blob/main/RNN_Google_Stock_Price_Train_csv.ipynb\" target=\"_parent\"><img src=\"https://colab.research.google.com/assets/colab-badge.svg\" alt=\"Open In Colab\"/></a>"
      ]
    },
    {
      "cell_type": "code",
      "metadata": {
        "id": "YcjGRez1mIQo"
      },
      "source": [
        "import os\n",
        "import numpy as np\n",
        "import pandas as pd\n",
        "import matplotlib.pyplot as plt\n",
        "import seaborn as sbn\n",
        "import warnings\n",
        "warnings.filterwarnings('ignore', category = RuntimeWarning)\n",
        "warnings.filterwarnings('ignore', category = UserWarning)\n",
        "\n",
        "# Importing Normalisation library\n",
        "from sklearn.preprocessing import MinMaxScaler\n",
        "\n",
        "# Importing Keras libraries and Packages\n",
        "from tensorflow.keras.models import Sequential\n",
        "from tensorflow.keras.layers import Dense\n",
        "from tensorflow.keras.layers import LSTM\n",
        "from tensorflow.keras.layers import Dropout\n",
        "\n",
        "# Importing Metrics libraries\n",
        "import math\n",
        "from sklearn.metrics import mean_squared_error\n",
        "\n",
        "# Importing TPU Setup Libraries\n",
        "# tf.enable_eager_execution()\n",
        "# from keras.backend import clear_session\n"
      ],
      "execution_count": 2,
      "outputs": []
    },
    {
      "cell_type": "markdown",
      "metadata": {
        "id": "b4su9Obvm7fT"
      },
      "source": [
        "Data reading"
      ]
    },
    {
      "cell_type": "code",
      "metadata": {
        "id": "y0NUrUkFmtCD"
      },
      "source": [
        "data_train = pd.read_csv('/content/drive/MyDrive/Colab Notebooks/datasets/Google_Stock_Price_Train.csv')"
      ],
      "execution_count": 3,
      "outputs": []
    },
    {
      "cell_type": "markdown",
      "metadata": {
        "id": "TMUWqn6Dm_9i"
      },
      "source": [
        "Data preprocessing"
      ]
    },
    {
      "cell_type": "code",
      "metadata": {
        "colab": {
          "base_uri": "https://localhost:8080/",
          "height": 204
        },
        "id": "QlCdN9NFnCXv",
        "outputId": "ef90549b-f7dc-4c2f-8575-ae891556a513"
      },
      "source": [
        "data_train.head()"
      ],
      "execution_count": 4,
      "outputs": [
        {
          "output_type": "execute_result",
          "data": {
            "text/html": [
              "<div>\n",
              "<style scoped>\n",
              "    .dataframe tbody tr th:only-of-type {\n",
              "        vertical-align: middle;\n",
              "    }\n",
              "\n",
              "    .dataframe tbody tr th {\n",
              "        vertical-align: top;\n",
              "    }\n",
              "\n",
              "    .dataframe thead th {\n",
              "        text-align: right;\n",
              "    }\n",
              "</style>\n",
              "<table border=\"1\" class=\"dataframe\">\n",
              "  <thead>\n",
              "    <tr style=\"text-align: right;\">\n",
              "      <th></th>\n",
              "      <th>Date</th>\n",
              "      <th>Open</th>\n",
              "      <th>High</th>\n",
              "      <th>Low</th>\n",
              "      <th>Close</th>\n",
              "      <th>Volume</th>\n",
              "    </tr>\n",
              "  </thead>\n",
              "  <tbody>\n",
              "    <tr>\n",
              "      <th>0</th>\n",
              "      <td>1/3/2012</td>\n",
              "      <td>325.25</td>\n",
              "      <td>332.83</td>\n",
              "      <td>324.97</td>\n",
              "      <td>663.59</td>\n",
              "      <td>7,380,500</td>\n",
              "    </tr>\n",
              "    <tr>\n",
              "      <th>1</th>\n",
              "      <td>1/4/2012</td>\n",
              "      <td>331.27</td>\n",
              "      <td>333.87</td>\n",
              "      <td>329.08</td>\n",
              "      <td>666.45</td>\n",
              "      <td>5,749,400</td>\n",
              "    </tr>\n",
              "    <tr>\n",
              "      <th>2</th>\n",
              "      <td>1/5/2012</td>\n",
              "      <td>329.83</td>\n",
              "      <td>330.75</td>\n",
              "      <td>326.89</td>\n",
              "      <td>657.21</td>\n",
              "      <td>6,590,300</td>\n",
              "    </tr>\n",
              "    <tr>\n",
              "      <th>3</th>\n",
              "      <td>1/6/2012</td>\n",
              "      <td>328.34</td>\n",
              "      <td>328.77</td>\n",
              "      <td>323.68</td>\n",
              "      <td>648.24</td>\n",
              "      <td>5,405,900</td>\n",
              "    </tr>\n",
              "    <tr>\n",
              "      <th>4</th>\n",
              "      <td>1/9/2012</td>\n",
              "      <td>322.04</td>\n",
              "      <td>322.29</td>\n",
              "      <td>309.46</td>\n",
              "      <td>620.76</td>\n",
              "      <td>11,688,800</td>\n",
              "    </tr>\n",
              "  </tbody>\n",
              "</table>\n",
              "</div>"
            ],
            "text/plain": [
              "       Date    Open    High     Low   Close      Volume\n",
              "0  1/3/2012  325.25  332.83  324.97  663.59   7,380,500\n",
              "1  1/4/2012  331.27  333.87  329.08  666.45   5,749,400\n",
              "2  1/5/2012  329.83  330.75  326.89  657.21   6,590,300\n",
              "3  1/6/2012  328.34  328.77  323.68  648.24   5,405,900\n",
              "4  1/9/2012  322.04  322.29  309.46  620.76  11,688,800"
            ]
          },
          "metadata": {
            "tags": []
          },
          "execution_count": 4
        }
      ]
    },
    {
      "cell_type": "code",
      "metadata": {
        "colab": {
          "base_uri": "https://localhost:8080/"
        },
        "id": "4iJudZHpnHon",
        "outputId": "257cd43f-272d-4fa9-c4f7-fca31929b500"
      },
      "source": [
        "training_set = data_train.iloc[:, 1:2].values\n",
        "training_set"
      ],
      "execution_count": 5,
      "outputs": [
        {
          "output_type": "execute_result",
          "data": {
            "text/plain": [
              "array([[325.25],\n",
              "       [331.27],\n",
              "       [329.83],\n",
              "       ...,\n",
              "       [793.7 ],\n",
              "       [783.33],\n",
              "       [782.75]])"
            ]
          },
          "metadata": {
            "tags": []
          },
          "execution_count": 5
        }
      ]
    },
    {
      "cell_type": "markdown",
      "metadata": {
        "id": "0jWYe579nTyO"
      },
      "source": [
        "## Feature Scaling\n",
        "\n",
        "1 to 60 -> 61\n",
        "\n",
        "2 to 61 -> 62\n",
        "\n",
        "3 to 62 -> 63"
      ]
    },
    {
      "cell_type": "code",
      "metadata": {
        "id": "ThaQK_0hnP05"
      },
      "source": [
        "sc = MinMaxScaler(feature_range= (0,1))"
      ],
      "execution_count": 7,
      "outputs": []
    },
    {
      "cell_type": "code",
      "metadata": {
        "colab": {
          "base_uri": "https://localhost:8080/"
        },
        "id": "071NoAzPnpWD",
        "outputId": "d822866b-ffd9-4ee7-b021-208cd09ef31d"
      },
      "source": [
        "scaled_training_set = sc.fit_transform(training_set)\n",
        "scaled_training_set"
      ],
      "execution_count": 9,
      "outputs": [
        {
          "output_type": "execute_result",
          "data": {
            "text/plain": [
              "array([[0.08581368],\n",
              "       [0.09701243],\n",
              "       [0.09433366],\n",
              "       ...,\n",
              "       [0.95725128],\n",
              "       [0.93796041],\n",
              "       [0.93688146]])"
            ]
          },
          "metadata": {
            "tags": []
          },
          "execution_count": 9
        }
      ]
    },
    {
      "cell_type": "markdown",
      "metadata": {
        "id": "JPWOrRKenuVO"
      },
      "source": [
        "Creating Datastructure with 60 timesteps and 1 output"
      ]
    },
    {
      "cell_type": "code",
      "metadata": {
        "id": "G2ocL8Bgne3d"
      },
      "source": [
        "# Using Pandas and Slicing\n",
        "\n",
        "x_train, y_train = zip(*[(scaled_training_set[i-60:i, 0]\n",
        "                          ,scaled_training_set[i, 0])\n",
        "                          for i in range(60, 1258)])"
      ],
      "execution_count": 10,
      "outputs": []
    },
    {
      "cell_type": "code",
      "metadata": {
        "id": "fLNVf1ftnzna"
      },
      "source": [
        "x_train, y_train = np.array(x_train), np.array(y_train)"
      ],
      "execution_count": 11,
      "outputs": []
    },
    {
      "cell_type": "code",
      "metadata": {
        "colab": {
          "base_uri": "https://localhost:8080/"
        },
        "id": "v8UP33HJn20N",
        "outputId": "afb3e7b6-03e7-4fae-9f8d-3d205c92a3ac"
      },
      "source": [
        "x_train.shape[1]"
      ],
      "execution_count": 12,
      "outputs": [
        {
          "output_type": "execute_result",
          "data": {
            "text/plain": [
              "60"
            ]
          },
          "metadata": {
            "tags": []
          },
          "execution_count": 12
        }
      ]
    },
    {
      "cell_type": "markdown",
      "metadata": {
        "id": "GePoAz_Kn6wB"
      },
      "source": [
        "Reshaping"
      ]
    },
    {
      "cell_type": "code",
      "metadata": {
        "id": "UONNJlpln8di"
      },
      "source": [
        "x_train = np.reshape(x_train, (x_train.shape[0], x_train.shape[1], 1))"
      ],
      "execution_count": 14,
      "outputs": []
    },
    {
      "cell_type": "markdown",
      "metadata": {
        "id": "GM-CL3I3oGrq"
      },
      "source": [
        "Setting Model Parameters"
      ]
    },
    {
      "cell_type": "code",
      "metadata": {
        "id": "sw7zwOKxoJ04"
      },
      "source": [
        "INPUT_SHAPE = (x_train.shape[1], 1)\n",
        "BATCH_SIZE = 32"
      ],
      "execution_count": 15,
      "outputs": []
    },
    {
      "cell_type": "markdown",
      "metadata": {
        "id": "kJQ7Vd2qoaTT"
      },
      "source": [
        "Model Creation"
      ]
    },
    {
      "cell_type": "code",
      "metadata": {
        "id": "NRa6QbquoZSg"
      },
      "source": [
        "# Step 1 - Initialising the RNN\n",
        "rnn_regressor = Sequential()"
      ],
      "execution_count": 16,
      "outputs": []
    },
    {
      "cell_type": "code",
      "metadata": {
        "id": "kY2U6lQyoiuZ"
      },
      "source": [
        "# Step 2 - First LSTM and Droput Layer\n",
        "rnn_regressor.add(LSTM(units = 50, return_sequences = True, input_shape = INPUT_SHAPE))\n",
        "rnn_regressor.add(Dropout(0.2))"
      ],
      "execution_count": 18,
      "outputs": []
    },
    {
      "cell_type": "code",
      "metadata": {
        "id": "GNlkw4y2orNQ"
      },
      "source": [
        "# Step 3 - Additional LSTM and Dropout Layers\n",
        "rnn_regressor.add(LSTM(units = 50, return_sequences = True))\n",
        "rnn_regressor.add(Dropout(0.2))\n",
        "\n",
        "rnn_regressor.add(LSTM(units = 75, return_sequences = True))\n",
        "rnn_regressor.add(Dropout(0.2))\n",
        "\n",
        "rnn_regressor.add(LSTM(units = 100, return_sequences = True))\n",
        "rnn_regressor.add(Dropout(0.2))\n",
        "\n",
        "rnn_regressor.add(LSTM(units = 100))\n",
        "rnn_regressor.add(Dropout(0.2))"
      ],
      "execution_count": 19,
      "outputs": []
    },
    {
      "cell_type": "code",
      "metadata": {
        "id": "ValvZX6iosXg"
      },
      "source": [
        "# Step 4 - Full Connection\n",
        "rnn_regressor.add(Dense(units = 1))"
      ],
      "execution_count": 20,
      "outputs": []
    },
    {
      "cell_type": "code",
      "metadata": {
        "id": "JxhIKmuco0kI"
      },
      "source": [
        "# Compiling the RNN\n",
        "rnn_regressor.compile(optimizer = 'adam', loss = 'mean_squared_error')"
      ],
      "execution_count": 22,
      "outputs": []
    },
    {
      "cell_type": "code",
      "metadata": {
        "colab": {
          "base_uri": "https://localhost:8080/"
        },
        "id": "EqRbL6Y6o79y",
        "outputId": "be64ba28-0180-4666-b6f5-1891f5e93f36"
      },
      "source": [
        "# Summary of RNN model\n",
        "rnn_regressor.summary()"
      ],
      "execution_count": 23,
      "outputs": [
        {
          "output_type": "stream",
          "text": [
            "Model: \"sequential\"\n",
            "_________________________________________________________________\n",
            "Layer (type)                 Output Shape              Param #   \n",
            "=================================================================\n",
            "lstm (LSTM)                  (None, 60, 50)            10400     \n",
            "_________________________________________________________________\n",
            "dropout (Dropout)            (None, 60, 50)            0         \n",
            "_________________________________________________________________\n",
            "lstm_1 (LSTM)                (None, 60, 50)            20200     \n",
            "_________________________________________________________________\n",
            "dropout_1 (Dropout)          (None, 60, 50)            0         \n",
            "_________________________________________________________________\n",
            "lstm_2 (LSTM)                (None, 60, 50)            20200     \n",
            "_________________________________________________________________\n",
            "dropout_2 (Dropout)          (None, 60, 50)            0         \n",
            "_________________________________________________________________\n",
            "lstm_3 (LSTM)                (None, 60, 75)            37800     \n",
            "_________________________________________________________________\n",
            "dropout_3 (Dropout)          (None, 60, 75)            0         \n",
            "_________________________________________________________________\n",
            "lstm_4 (LSTM)                (None, 60, 100)           70400     \n",
            "_________________________________________________________________\n",
            "dropout_4 (Dropout)          (None, 60, 100)           0         \n",
            "_________________________________________________________________\n",
            "lstm_5 (LSTM)                (None, 100)               80400     \n",
            "_________________________________________________________________\n",
            "dropout_5 (Dropout)          (None, 100)               0         \n",
            "_________________________________________________________________\n",
            "dense (Dense)                (None, 1)                 101       \n",
            "=================================================================\n",
            "Total params: 239,501\n",
            "Trainable params: 239,501\n",
            "Non-trainable params: 0\n",
            "_________________________________________________________________\n"
          ],
          "name": "stdout"
        }
      ]
    },
    {
      "cell_type": "markdown",
      "metadata": {
        "id": "QQDnx-ZepBkP"
      },
      "source": [
        "Train the RNN Model"
      ]
    },
    {
      "cell_type": "code",
      "metadata": {
        "colab": {
          "base_uri": "https://localhost:8080/"
        },
        "id": "KTUGIambpFGF",
        "outputId": "5558b6a9-8987-44ed-b507-bd4e7f239eb9"
      },
      "source": [
        "EPOCHS = 100\n",
        "history = rnn_regressor.fit(\n",
        "    x = x_train,\n",
        "    y = y_train,\n",
        "    epochs = EPOCHS,\n",
        "    batch_size = BATCH_SIZE\n",
        ")"
      ],
      "execution_count": 24,
      "outputs": [
        {
          "output_type": "stream",
          "text": [
            "Epoch 1/100\n",
            "38/38 [==============================] - 18s 214ms/step - loss: 0.1032\n",
            "Epoch 2/100\n",
            "38/38 [==============================] - 8s 212ms/step - loss: 0.0061\n",
            "Epoch 3/100\n",
            "38/38 [==============================] - 8s 208ms/step - loss: 0.0057\n",
            "Epoch 4/100\n",
            "38/38 [==============================] - 8s 212ms/step - loss: 0.0059\n",
            "Epoch 5/100\n",
            "38/38 [==============================] - 8s 211ms/step - loss: 0.0046\n",
            "Epoch 6/100\n",
            "38/38 [==============================] - 8s 211ms/step - loss: 0.0056\n",
            "Epoch 7/100\n",
            "38/38 [==============================] - 8s 210ms/step - loss: 0.0068\n",
            "Epoch 8/100\n",
            "38/38 [==============================] - 8s 210ms/step - loss: 0.0051\n",
            "Epoch 9/100\n",
            "38/38 [==============================] - 8s 213ms/step - loss: 0.0046\n",
            "Epoch 10/100\n",
            "38/38 [==============================] - 8s 212ms/step - loss: 0.0042\n",
            "Epoch 11/100\n",
            "38/38 [==============================] - 8s 214ms/step - loss: 0.0052\n",
            "Epoch 12/100\n",
            "38/38 [==============================] - 8s 214ms/step - loss: 0.0045\n",
            "Epoch 13/100\n",
            "38/38 [==============================] - 8s 214ms/step - loss: 0.0048\n",
            "Epoch 14/100\n",
            "38/38 [==============================] - 8s 212ms/step - loss: 0.0043\n",
            "Epoch 15/100\n",
            "38/38 [==============================] - 8s 215ms/step - loss: 0.0037\n",
            "Epoch 16/100\n",
            "38/38 [==============================] - 8s 213ms/step - loss: 0.0045\n",
            "Epoch 17/100\n",
            "38/38 [==============================] - 8s 212ms/step - loss: 0.0056\n",
            "Epoch 18/100\n",
            "38/38 [==============================] - 8s 212ms/step - loss: 0.0036\n",
            "Epoch 19/100\n",
            "38/38 [==============================] - 8s 214ms/step - loss: 0.0036\n",
            "Epoch 20/100\n",
            "38/38 [==============================] - 8s 215ms/step - loss: 0.0037\n",
            "Epoch 21/100\n",
            "38/38 [==============================] - 8s 212ms/step - loss: 0.0032\n",
            "Epoch 22/100\n",
            "38/38 [==============================] - 8s 212ms/step - loss: 0.0034\n",
            "Epoch 23/100\n",
            "38/38 [==============================] - 8s 211ms/step - loss: 0.0028\n",
            "Epoch 24/100\n",
            "38/38 [==============================] - 8s 215ms/step - loss: 0.0029\n",
            "Epoch 25/100\n",
            "38/38 [==============================] - 8s 212ms/step - loss: 0.0030\n",
            "Epoch 26/100\n",
            "38/38 [==============================] - 8s 215ms/step - loss: 0.0031\n",
            "Epoch 27/100\n",
            "38/38 [==============================] - 8s 212ms/step - loss: 0.0033\n",
            "Epoch 28/100\n",
            "38/38 [==============================] - 8s 212ms/step - loss: 0.0033\n",
            "Epoch 29/100\n",
            "38/38 [==============================] - 8s 211ms/step - loss: 0.0033\n",
            "Epoch 30/100\n",
            "38/38 [==============================] - 8s 215ms/step - loss: 0.0027\n",
            "Epoch 31/100\n",
            "38/38 [==============================] - 8s 217ms/step - loss: 0.0031\n",
            "Epoch 32/100\n",
            "38/38 [==============================] - 8s 217ms/step - loss: 0.0027\n",
            "Epoch 33/100\n",
            "38/38 [==============================] - 8s 217ms/step - loss: 0.0026\n",
            "Epoch 34/100\n",
            "38/38 [==============================] - 8s 217ms/step - loss: 0.0025\n",
            "Epoch 35/100\n",
            "38/38 [==============================] - 8s 214ms/step - loss: 0.0028\n",
            "Epoch 36/100\n",
            "38/38 [==============================] - 8s 215ms/step - loss: 0.0028\n",
            "Epoch 37/100\n",
            "38/38 [==============================] - 8s 215ms/step - loss: 0.0023\n",
            "Epoch 38/100\n",
            "38/38 [==============================] - 8s 215ms/step - loss: 0.0025\n",
            "Epoch 39/100\n",
            "38/38 [==============================] - 8s 214ms/step - loss: 0.0026\n",
            "Epoch 40/100\n",
            "38/38 [==============================] - 8s 217ms/step - loss: 0.0027\n",
            "Epoch 41/100\n",
            "38/38 [==============================] - 8s 217ms/step - loss: 0.0030\n",
            "Epoch 42/100\n",
            "38/38 [==============================] - 8s 216ms/step - loss: 0.0024\n",
            "Epoch 43/100\n",
            "38/38 [==============================] - 8s 216ms/step - loss: 0.0025\n",
            "Epoch 44/100\n",
            "38/38 [==============================] - 8s 213ms/step - loss: 0.0023\n",
            "Epoch 45/100\n",
            "38/38 [==============================] - 8s 215ms/step - loss: 0.0030\n",
            "Epoch 46/100\n",
            "38/38 [==============================] - 8s 212ms/step - loss: 0.0027\n",
            "Epoch 47/100\n",
            "38/38 [==============================] - 8s 215ms/step - loss: 0.0024\n",
            "Epoch 48/100\n",
            "38/38 [==============================] - 8s 214ms/step - loss: 0.0025\n",
            "Epoch 49/100\n",
            "38/38 [==============================] - 8s 218ms/step - loss: 0.0024\n",
            "Epoch 50/100\n",
            "38/38 [==============================] - 8s 213ms/step - loss: 0.0029\n",
            "Epoch 51/100\n",
            "38/38 [==============================] - 8s 216ms/step - loss: 0.0021\n",
            "Epoch 52/100\n",
            "38/38 [==============================] - 8s 216ms/step - loss: 0.0023\n",
            "Epoch 53/100\n",
            "38/38 [==============================] - 8s 213ms/step - loss: 0.0023\n",
            "Epoch 54/100\n",
            "38/38 [==============================] - 8s 214ms/step - loss: 0.0028\n",
            "Epoch 55/100\n",
            "38/38 [==============================] - 8s 216ms/step - loss: 0.0024\n",
            "Epoch 56/100\n",
            "38/38 [==============================] - 8s 215ms/step - loss: 0.0025\n",
            "Epoch 57/100\n",
            "38/38 [==============================] - 8s 215ms/step - loss: 0.0022\n",
            "Epoch 58/100\n",
            "38/38 [==============================] - 8s 211ms/step - loss: 0.0021\n",
            "Epoch 59/100\n",
            "38/38 [==============================] - 8s 214ms/step - loss: 0.0023\n",
            "Epoch 60/100\n",
            "38/38 [==============================] - 8s 213ms/step - loss: 0.0026\n",
            "Epoch 61/100\n",
            "38/38 [==============================] - 8s 215ms/step - loss: 0.0017\n",
            "Epoch 62/100\n",
            "38/38 [==============================] - 8s 214ms/step - loss: 0.0018\n",
            "Epoch 63/100\n",
            "38/38 [==============================] - 8s 213ms/step - loss: 0.0021\n",
            "Epoch 64/100\n",
            "38/38 [==============================] - 8s 217ms/step - loss: 0.0021\n",
            "Epoch 65/100\n",
            "38/38 [==============================] - 8s 214ms/step - loss: 0.0020\n",
            "Epoch 66/100\n",
            "38/38 [==============================] - 8s 214ms/step - loss: 0.0018\n",
            "Epoch 67/100\n",
            "38/38 [==============================] - 8s 213ms/step - loss: 0.0018\n",
            "Epoch 68/100\n",
            "38/38 [==============================] - 8s 219ms/step - loss: 0.0018\n",
            "Epoch 69/100\n",
            "38/38 [==============================] - 8s 216ms/step - loss: 0.0018\n",
            "Epoch 70/100\n",
            "38/38 [==============================] - 8s 218ms/step - loss: 0.0018\n",
            "Epoch 71/100\n",
            "38/38 [==============================] - 8s 217ms/step - loss: 0.0017\n",
            "Epoch 72/100\n",
            "38/38 [==============================] - 8s 217ms/step - loss: 0.0017\n",
            "Epoch 73/100\n",
            "38/38 [==============================] - 8s 214ms/step - loss: 0.0019\n",
            "Epoch 74/100\n",
            "38/38 [==============================] - 8s 217ms/step - loss: 0.0020\n",
            "Epoch 75/100\n",
            "38/38 [==============================] - 8s 216ms/step - loss: 0.0016\n",
            "Epoch 76/100\n",
            "38/38 [==============================] - 8s 216ms/step - loss: 0.0019\n",
            "Epoch 77/100\n",
            "38/38 [==============================] - 8s 219ms/step - loss: 0.0015\n",
            "Epoch 78/100\n",
            "38/38 [==============================] - 8s 219ms/step - loss: 0.0016\n",
            "Epoch 79/100\n",
            "38/38 [==============================] - 8s 215ms/step - loss: 0.0017\n",
            "Epoch 80/100\n",
            "38/38 [==============================] - 8s 217ms/step - loss: 0.0020\n",
            "Epoch 81/100\n",
            "38/38 [==============================] - 8s 213ms/step - loss: 0.0017\n",
            "Epoch 82/100\n",
            "38/38 [==============================] - 8s 214ms/step - loss: 0.0015\n",
            "Epoch 83/100\n",
            "38/38 [==============================] - 8s 219ms/step - loss: 0.0019\n",
            "Epoch 84/100\n",
            "38/38 [==============================] - 8s 218ms/step - loss: 0.0016\n",
            "Epoch 85/100\n",
            "38/38 [==============================] - 8s 220ms/step - loss: 0.0016\n",
            "Epoch 86/100\n",
            "38/38 [==============================] - 8s 222ms/step - loss: 0.0017\n",
            "Epoch 87/100\n",
            "38/38 [==============================] - 8s 219ms/step - loss: 0.0014\n",
            "Epoch 88/100\n",
            "38/38 [==============================] - 8s 223ms/step - loss: 0.0013\n",
            "Epoch 89/100\n",
            "38/38 [==============================] - 8s 222ms/step - loss: 0.0016\n",
            "Epoch 90/100\n",
            "38/38 [==============================] - 8s 220ms/step - loss: 0.0015\n",
            "Epoch 91/100\n",
            "38/38 [==============================] - 8s 220ms/step - loss: 0.0013\n",
            "Epoch 92/100\n",
            "38/38 [==============================] - 8s 221ms/step - loss: 0.0015\n",
            "Epoch 93/100\n",
            "38/38 [==============================] - 8s 221ms/step - loss: 0.0015\n",
            "Epoch 94/100\n",
            "38/38 [==============================] - 8s 224ms/step - loss: 0.0015\n",
            "Epoch 95/100\n",
            "38/38 [==============================] - 8s 221ms/step - loss: 0.0018\n",
            "Epoch 96/100\n",
            "38/38 [==============================] - 8s 220ms/step - loss: 0.0016\n",
            "Epoch 97/100\n",
            "38/38 [==============================] - 8s 219ms/step - loss: 0.0015\n",
            "Epoch 98/100\n",
            "38/38 [==============================] - 8s 222ms/step - loss: 0.0014\n",
            "Epoch 99/100\n",
            "38/38 [==============================] - 8s 220ms/step - loss: 0.0012\n",
            "Epoch 100/100\n",
            "38/38 [==============================] - 8s 222ms/step - loss: 0.0015\n"
          ],
          "name": "stdout"
        }
      ]
    },
    {
      "cell_type": "markdown",
      "metadata": {
        "id": "pU90uQ2mqOT8"
      },
      "source": [
        "Prediction and Visualising the result"
      ]
    },
    {
      "cell_type": "code",
      "metadata": {
        "id": "BordB7hBsq3U"
      },
      "source": [
        "data_test = pd.read_csv('/content/drive/MyDrive/Colab Notebooks/datasets/Google_Stock_Price_Train.csv')"
      ],
      "execution_count": 29,
      "outputs": []
    },
    {
      "cell_type": "code",
      "metadata": {
        "id": "a_XcF5JWqLCK"
      },
      "source": [
        "# Real stock Price\n",
        "real_stock_price = data_test.iloc[:, 1:2].values"
      ],
      "execution_count": 30,
      "outputs": []
    },
    {
      "cell_type": "code",
      "metadata": {
        "colab": {
          "base_uri": "https://localhost:8080/"
        },
        "id": "q7DeOnU0rqv2",
        "outputId": "5f97bcfc-a975-46ca-c414-a9e96bc0dd09"
      },
      "source": [
        "real_stock_price"
      ],
      "execution_count": 31,
      "outputs": [
        {
          "output_type": "execute_result",
          "data": {
            "text/plain": [
              "array([[325.25],\n",
              "       [331.27],\n",
              "       [329.83],\n",
              "       ...,\n",
              "       [793.7 ],\n",
              "       [783.33],\n",
              "       [782.75]])"
            ]
          },
          "metadata": {
            "tags": []
          },
          "execution_count": 31
        }
      ]
    },
    {
      "cell_type": "code",
      "metadata": {
        "id": "Tl4qmFM3ruER"
      },
      "source": [
        "# Predicting Stock Price of Jan 2017\n",
        "data_total = pd.concat((data_train['Open'], data_test['Open']), axis = 0)\n",
        "inputs = data_total[len(data_total) - len(data_test) - 60:].values  # values for making this a numpy array\n",
        "\n",
        "# Reshaping\n",
        "inputs = inputs.reshape(-1,1)"
      ],
      "execution_count": 32,
      "outputs": []
    },
    {
      "cell_type": "code",
      "metadata": {
        "id": "yTdAxRmWr1fu"
      },
      "source": [
        "# Scaling\n",
        "inputs = sc.transform(inputs) # transform must be used instead of fit_transform to apply the same tranformation which occured in the training set "
      ],
      "execution_count": 33,
      "outputs": []
    },
    {
      "cell_type": "code",
      "metadata": {
        "id": "cok_w0Yxr4QF"
      },
      "source": [
        "# Creating Datastructure with 60 timesteps for test data\n",
        "x_test = [inputs[i-60:i, 0] for i in range(60, 80)]    # For 20 Financial days\n",
        "x_test = np.array(x_test)"
      ],
      "execution_count": 34,
      "outputs": []
    },
    {
      "cell_type": "code",
      "metadata": {
        "id": "XkgA7YGtr7JX"
      },
      "source": [
        "# Reshaping\n",
        "x_test = np.reshape(x_test, (x_test.shape[0], x_test.shape[1], 1))"
      ],
      "execution_count": 35,
      "outputs": []
    },
    {
      "cell_type": "markdown",
      "metadata": {
        "id": "p41Q63avr8Hw"
      },
      "source": [
        "\n",
        "Prediction of Test Data with Trained RNN"
      ]
    },
    {
      "cell_type": "code",
      "metadata": {
        "id": "6k8EyF2Er_zY"
      },
      "source": [
        "predicted_stock_price = rnn_regressor.predict(x_test)"
      ],
      "execution_count": 37,
      "outputs": []
    },
    {
      "cell_type": "code",
      "metadata": {
        "id": "qwZQmjAdsEuq"
      },
      "source": [
        "# Inversing the scaled data to original\n",
        "predicted_stock_price = sc.inverse_transform(predicted_stock_price)"
      ],
      "execution_count": 38,
      "outputs": []
    },
    {
      "cell_type": "code",
      "metadata": {
        "colab": {
          "base_uri": "https://localhost:8080/"
        },
        "id": "Ap8ePkZfsL53",
        "outputId": "f4c5bff6-3faa-49b9-ae7d-a77b342872c5"
      },
      "source": [
        "predicted_stock_price"
      ],
      "execution_count": 39,
      "outputs": [
        {
          "output_type": "execute_result",
          "data": {
            "text/plain": [
              "array([[766.0819 ],\n",
              "       [715.16205],\n",
              "       [656.7791 ],\n",
              "       [591.632  ],\n",
              "       [525.1917 ],\n",
              "       [462.39142],\n",
              "       [408.9036 ],\n",
              "       [370.5316 ],\n",
              "       [351.58597],\n",
              "       [352.152  ],\n",
              "       [366.33243],\n",
              "       [383.88104],\n",
              "       [395.93134],\n",
              "       [397.09048],\n",
              "       [387.53033],\n",
              "       [371.57367],\n",
              "       [354.24173],\n",
              "       [339.32028],\n",
              "       [328.88174],\n",
              "       [323.5968 ]], dtype=float32)"
            ]
          },
          "metadata": {
            "tags": []
          },
          "execution_count": 39
        }
      ]
    },
    {
      "cell_type": "markdown",
      "metadata": {
        "id": "30oMw_LqtKmF"
      },
      "source": [
        "Visualisation"
      ]
    },
    {
      "cell_type": "code",
      "metadata": {
        "colab": {
          "base_uri": "https://localhost:8080/",
          "height": 350
        },
        "id": "wK2K3NiGsQJD",
        "outputId": "1e7d9107-8aa7-4f66-c6aa-71867c142ce5"
      },
      "source": [
        "plt.figure(figsize=(16, 5))\n",
        "plt.plot(real_stock_price, color = 'blue', label = 'Real Stock Price of JAN 2017')\n",
        "plt.plot(predicted_stock_price, color = 'orange', label = 'Predicted Stock Price of JAN 2017')\n",
        "plt.title('Google Stock Price Prediction')\n",
        "plt.xlabel('Time')\n",
        "plt.ylabel('Stock Price')\n",
        "plt.legend(loc='upper left')\n",
        "plt.show()"
      ],
      "execution_count": 40,
      "outputs": [
        {
          "output_type": "display_data",
          "data": {
            "image/png": "[encoded data removed]",
            "text/plain": [
              "<Figure size 1152x360 with 1 Axes>"
            ]
          },
          "metadata": {
            "tags": [],
            "needs_background": "light"
          }
        }
      ]
    }
  ]
}
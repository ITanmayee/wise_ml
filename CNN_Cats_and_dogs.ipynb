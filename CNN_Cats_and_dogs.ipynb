{
  "nbformat": 4,
  "nbformat_minor": 0,
  "metadata": {
    "colab": {
      "name": "CNN_Cats_and_dogs.ipynb",
      "private_outputs": true,
      "provenance": [],
      "mount_file_id": "1q_e-EL2y5J-52aQAaZgcDluPndZqhC1V",
      "authorship_tag": "ABX9TyPfVgN3YcCaqhbdPpL5h2h8",
      "include_colab_link": true
    },
    "kernelspec": {
      "name": "python3",
      "display_name": "Python 3"
    },
    "language_info": {
      "name": "python"
    },
    "accelerator": "GPU"
  },
  "cells": [
    {
      "cell_type": "markdown",
      "metadata": {
        "id": "view-in-github",
        "colab_type": "text"
      },
      "source": [
        "<a href=\"https://colab.research.google.com/github/ITanmayee/wise_ml/blob/main/CNN_Cats_and_dogs.ipynb\" target=\"_parent\"><img src=\"https://colab.research.google.com/assets/colab-badge.svg\" alt=\"Open In Colab\"/></a>"
      ]
    },
    {
      "cell_type": "code",
      "metadata": {
        "id": "eycYdgaI6ksN"
      },
      "source": [
        "# Importing the Keras libraries and packages\n",
        "import os\n",
        "import numpy as np\n",
        "from keras.models import Sequential\n",
        "from keras.layers import Conv2D\n",
        "from keras.layers import MaxPooling2D\n",
        "from keras.layers import Flatten\n",
        "from keras.layers import Dense\n",
        "from keras.layers import Dropout\n",
        "from keras.preprocessing.image import ImageDataGenerator\n",
        "import matplotlib.pyplot as plt\n"
      ],
      "execution_count": null,
      "outputs": []
    },
    {
      "cell_type": "markdown",
      "metadata": {
        "id": "uhhvwFxq7hcd"
      },
      "source": [
        "unzipping and loading the data set"
      ]
    },
    {
      "cell_type": "code",
      "metadata": {
        "id": "6pyS9Ovy7cmD"
      },
      "source": [
        "!unzip \"<File Path of the cats_and_dogs_filtered.zip in mounted drive>\" -d \"/content\""
      ],
      "execution_count": null,
      "outputs": []
    },
    {
      "cell_type": "code",
      "metadata": {
        "id": "26BmAg-_ZWFm"
      },
      "source": [
        "\"\"\"base_dir = os.path.join(os.getcwd(), 'cats_and_dogs_filtered')\n",
        "train_dir = os.path.join(base_dir, 'train')\n",
        "validation_dir = os.path.join(base_dir, 'validation')\n",
        "\"\"\"\n",
        "base_dir = '/content/drive/MyDrive/Colab Notebooks/datasets/cats_and_dogs_filtered/cats_and_dogs_filtered'\n",
        "train_dir = '/content/drive/MyDrive/Colab Notebooks/datasets/cats_and_dogs_filtered/train'\n",
        "validation_dir = '/content/drive/MyDrive/Colab Notebooks/datasets/cats_and_dogs_filtered/validation'"
      ],
      "execution_count": null,
      "outputs": []
    },
    {
      "cell_type": "code",
      "metadata": {
        "id": "XsnQdAY2ZbOi"
      },
      "source": [
        "\"\"\"train_cats_dir = os.path.join(train_dir, 'cats')  # directory with our training cat pictures\n",
        "train_dogs_dir = os.path.join(train_dir, 'dogs')  # directory with our training dog pictures\n",
        "validation_cats_dir = os.path.join(validation_dir, 'cats')  # directory with our validation cat pictures\n",
        "validation_dogs_dir = os.path.join(validation_dir, 'dogs')  # directory with our validation dog pictures\"\"\"\n",
        "\n",
        "train_cats_dir = '/content/drive/MyDrive/Colab Notebooks/datasets/cats_and_dogs_filtered/train/cats' # directory with our training cat pictures\n",
        "train_dogs_dir = '/content/drive/MyDrive/Colab Notebooks/datasets/cats_and_dogs_filtered/train/dogs' # directory with our training dog pictures\n",
        "validation_cats_dir = '/content/drive/MyDrive/Colab Notebooks/datasets/cats_and_dogs_filtered/validation/cats'  # directory with our validation cat pictures\n",
        "validation_dogs_dir = '/content/drive/MyDrive/Colab Notebooks/datasets/cats_and_dogs_filtered/validation/dogs'  # directory with our validation dog pictures\n"
      ],
      "execution_count": null,
      "outputs": []
    },
    {
      "cell_type": "code",
      "metadata": {
        "id": "QSlGItpXZqZ8"
      },
      "source": [
        "num_cats_tr = len(os.listdir(train_cats_dir))\n",
        "num_dogs_tr = len(os.listdir(train_dogs_dir))\n",
        "\n",
        "num_cats_val = len(os.listdir(validation_cats_dir))\n",
        "num_dogs_val = len(os.listdir(validation_dogs_dir))\n",
        "\n",
        "total_train = num_cats_tr + num_dogs_tr\n",
        "total_val = num_cats_val + num_dogs_val"
      ],
      "execution_count": null,
      "outputs": []
    },
    {
      "cell_type": "markdown",
      "metadata": {
        "id": "L5WwBeP1ZwfC"
      },
      "source": [
        "Setting Model Parameters"
      ]
    },
    {
      "cell_type": "code",
      "metadata": {
        "id": "V-uHds-CZs7H"
      },
      "source": [
        "BATCH_SIZE = 100  # Number of training examples to process before updating our models variables\n",
        "IMG_SHAPE  = 150  # Our training data consists of images with width of 150 pixels and height of 150 pixels"
      ],
      "execution_count": null,
      "outputs": []
    },
    {
      "cell_type": "markdown",
      "metadata": {
        "id": "7502Xo_KZ820"
      },
      "source": [
        "Model Creation"
      ]
    },
    {
      "cell_type": "code",
      "metadata": {
        "id": "OX8d2f8xZ-OY"
      },
      "source": [
        "# Initialising the CNN\n",
        "classifier = Sequential()"
      ],
      "execution_count": null,
      "outputs": []
    },
    {
      "cell_type": "code",
      "metadata": {
        "id": "gloBF3y6aFnc"
      },
      "source": [
        "# Step 1 - Convolution\n",
        "classifier.add(Conv2D(32, (3, 3), input_shape = (150, 150, 3), activation = 'relu'))"
      ],
      "execution_count": null,
      "outputs": []
    },
    {
      "cell_type": "code",
      "metadata": {
        "id": "qtTQTYMaaJ1V"
      },
      "source": [
        "# Step 2 - Pooling\n",
        "classifier.add(MaxPooling2D(2, 2))"
      ],
      "execution_count": null,
      "outputs": []
    },
    {
      "cell_type": "code",
      "metadata": {
        "id": "yZ5bokj7aS9Q"
      },
      "source": [
        "# Step 1 & 2 with more hidden layers\n",
        "classifier.add(Conv2D(64, (3, 3), activation = 'relu'))\n",
        "classifier.add(MaxPooling2D(2,2))\n",
        "\n",
        "classifier.add(Conv2D(128, (3,3), activation='relu'))\n",
        "classifier.add(MaxPooling2D(2,2))\n",
        "\n",
        "classifier.add(Conv2D(128, (3,3), activation='relu'))\n",
        "classifier.add(MaxPooling2D(2,2))"
      ],
      "execution_count": null,
      "outputs": []
    },
    {
      "cell_type": "code",
      "metadata": {
        "id": "PczGUkpmaYUO"
      },
      "source": [
        "# Step 3 - Dropout\n",
        "classifier.add(Dropout(0.5))"
      ],
      "execution_count": null,
      "outputs": []
    },
    {
      "cell_type": "markdown",
      "metadata": {
        "id": "t1ULwsAeadym"
      },
      "source": [
        "Adding a second convolutional layer classifier.add(Conv2D(32, (3, 3), activation = 'relu')) classifier.add(MaxPooling2D(pool_size = (2, 2)))"
      ]
    },
    {
      "cell_type": "code",
      "metadata": {
        "id": "rV4d5nXyafvr"
      },
      "source": [
        "# Step 4 - Flattening\n",
        "classifier.add(Flatten())"
      ],
      "execution_count": null,
      "outputs": []
    },
    {
      "cell_type": "code",
      "metadata": {
        "id": "rfzwuJ30anem"
      },
      "source": [
        "# Step 5 - Full connection\n",
        "classifier.add(Dense(units = 512, activation = 'relu'))\n",
        "classifier.add(Dense(units = 2, activation = 'softmax'))"
      ],
      "execution_count": null,
      "outputs": []
    },
    {
      "cell_type": "code",
      "metadata": {
        "id": "d58-zqA-asfv"
      },
      "source": [
        "# Compiling the CNN\n",
        "classifier.compile(optimizer = 'adam', loss = 'sparse_categorical_crossentropy', metrics = ['accuracy'])"
      ],
      "execution_count": null,
      "outputs": []
    },
    {
      "cell_type": "code",
      "metadata": {
        "id": "TFmCGHT4azYw"
      },
      "source": [
        "classifier.summary()"
      ],
      "execution_count": null,
      "outputs": []
    },
    {
      "cell_type": "markdown",
      "metadata": {
        "id": "muy9GoJva6Om"
      },
      "source": [
        "Data Augmentation and Preparation"
      ]
    },
    {
      "cell_type": "code",
      "metadata": {
        "id": "vkCqS5Fqa5EF"
      },
      "source": [
        "train_datagen = ImageDataGenerator(rescale=1./255,\n",
        "                                   rotation_range=40,\n",
        "                                   width_shift_range=0.2,\n",
        "                                   height_shift_range=0.2,\n",
        "                                   shear_range=0.2,\n",
        "                                   zoom_range=0.2,\n",
        "                                   horizontal_flip=True,\n",
        "                                   fill_mode='nearest')"
      ],
      "execution_count": null,
      "outputs": []
    },
    {
      "cell_type": "code",
      "metadata": {
        "id": "GLZCnmmwbEPk"
      },
      "source": [
        "training_set = train_datagen.flow_from_directory(batch_size=BATCH_SIZE,\n",
        "                                                 directory='/content/drive/MyDrive/Colab Notebooks/datasets/cats_and_dogs_filtered/train',\n",
        "                                                 shuffle=True,\n",
        "                                                 target_size=(IMG_SHAPE,IMG_SHAPE),\n",
        "                                                 class_mode='binary')"
      ],
      "execution_count": null,
      "outputs": []
    },
    {
      "cell_type": "code",
      "metadata": {
        "id": "JvMU3dCDdI_C"
      },
      "source": [
        "validation_datagen = ImageDataGenerator(rescale = 1./255)"
      ],
      "execution_count": null,
      "outputs": []
    },
    {
      "cell_type": "code",
      "metadata": {
        "id": "PCUclEW4dkHQ"
      },
      "source": [
        "validation_set = validation_datagen.flow_from_directory(batch_size=BATCH_SIZE,\n",
        "                                                        directory='/content/drive/MyDrive/Colab Notebooks/datasets/cats_and_dogs_filtered/validation',\n",
        "                                                        target_size=(IMG_SHAPE, IMG_SHAPE),\n",
        "                                                        class_mode='binary')"
      ],
      "execution_count": null,
      "outputs": []
    },
    {
      "cell_type": "markdown",
      "metadata": {
        "id": "BNG9Io_Yd2ms"
      },
      "source": [
        "Train the model"
      ]
    },
    {
      "cell_type": "code",
      "metadata": {
        "id": "FPg71cs-d1Vz"
      },
      "source": [
        "epochs=100\n",
        "history = classifier.fit_generator(\n",
        "    training_set,\n",
        "    steps_per_epoch=int(np.ceil(total_train / float(BATCH_SIZE))),\n",
        "    epochs=epochs,\n",
        "    validation_data=validation_set,\n",
        "    validation_steps=int(np.ceil(total_val / float(BATCH_SIZE)))\n",
        ")"
      ],
      "execution_count": null,
      "outputs": []
    },
    {
      "cell_type": "markdown",
      "metadata": {
        "id": "ayQGz77ngFD4"
      },
      "source": [
        "Training Result Visualization"
      ]
    },
    {
      "cell_type": "code",
      "metadata": {
        "id": "_F-DvMoJgEl9"
      },
      "source": [
        "acc = history.history['accuracy']\n",
        "val_acc = history.history['val_accuracy']\n",
        "\n",
        "loss = history.history['loss']\n",
        "val_loss = history.history['val_loss']\n",
        "\n",
        "epochs_range = range(epochs)\n",
        "\n",
        "plt.figure(figsize=(8, 8))\n",
        "plt.subplot(1, 2, 1)\n",
        "plt.plot(epochs_range, acc, label='Training Accuracy')\n",
        "plt.plot(epochs_range, val_acc, label='Validation Accuracy')\n",
        "plt.legend(loc='lower right')\n",
        "plt.title('Training and Validation Accuracy')\n",
        "\n",
        "plt.subplot(1, 2, 2)\n",
        "plt.plot(epochs_range, loss, label='Training Loss')\n",
        "plt.plot(epochs_range, val_loss, label='Validation Loss')\n",
        "plt.legend(loc='upper right')\n",
        "plt.title('Training and Validation Loss')\n",
        "plt.show()"
      ],
      "execution_count": null,
      "outputs": []
    }
  ]
}